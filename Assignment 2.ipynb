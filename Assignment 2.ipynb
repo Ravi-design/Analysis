{
    "cells": [
        {
            "metadata": {
                "collapsed": true
            },
            "cell_type": "markdown",
            "source": "# My Jupyter Notebook on IBM Watson Studio"
        },
        {
            "metadata": {},
            "cell_type": "markdown",
            "source": "__Jayanth Kumar Ravi__\n\n\nApplication Analyst"
        },
        {
            "metadata": {},
            "cell_type": "markdown",
            "source": "*I am interested in data science because ... want to become a data scientiest*"
        },
        {
            "metadata": {},
            "cell_type": "markdown",
            "source": "### simple code for addition."
        },
        {
            "metadata": {},
            "cell_type": "code",
            "source": "1+1",
            "execution_count": 8,
            "outputs": [
                {
                    "output_type": "execute_result",
                    "execution_count": 8,
                    "data": {
                        "text/plain": "2"
                    },
                    "metadata": {}
                }
            ]
        },
        {
            "metadata": {},
            "cell_type": "markdown",
            "source": "Inline `code` has `back-ticks around` it. `CODE SYNTAX HIGHLIGHT`\n\n![alt text](https://github.com/adam-p/markdown-here/raw/master/src/common/images/icon48.png \"IMAGE\")\n\nHorizontal Rules\n___\n\n~~StirckThrough~~\n\n[HYPERLINK to GOOGLE](https://www.google.com)"
        }
    ],
    "metadata": {
        "kernelspec": {
            "name": "python3",
            "display_name": "Python 3.7",
            "language": "python"
        },
        "language_info": {
            "name": "python",
            "version": "3.7.9",
            "mimetype": "text/x-python",
            "codemirror_mode": {
                "name": "ipython",
                "version": 3
            },
            "pygments_lexer": "ipython3",
            "nbconvert_exporter": "python",
            "file_extension": ".py"
        }
    },
    "nbformat": 4,
    "nbformat_minor": 1
}