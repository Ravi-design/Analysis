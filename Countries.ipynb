{
    "cells": [
        {
            "metadata": {},
            "cell_type": "code",
            "source": "\nimport types\nimport pandas as pd\nfrom botocore.client import Config\nimport ibm_boto3\n\ndef __iter__(self): return 0\n\n# @hidden_cell\n# The following code accesses a file in your IBM Cloud Object Storage. It includes your credentials.\n# You might want to remove those credentials before you share the notebook.\nclient_3e903b121232457f9198385d56db729c = ibm_boto3.client(service_name='s3',\n    ibm_api_key_id='jeLrWBfUJkd0Ci6J0pYth6Di5vTXozqTmExu_8qphXXJ',\n    ibm_auth_endpoint=\"https://iam.cloud.ibm.com/oidc/token\",\n    config=Config(signature_version='oauth'),\n    endpoint_url='https://s3.ap-geo.objectstorage.service.networklayer.com')\n\nbody = client_3e903b121232457f9198385d56db729c.get_object(Bucket='analysis-donotdelete-pr-qp0lw7bghxtqki',Key='counties_wkt.csv')['Body']\n# add missing __iter__ method, so pandas accepts body as file-like object\nif not hasattr(body, \"__iter__\"): body.__iter__ = types.MethodType( __iter__, body )\n\ndf_data_1 = pd.read_csv(body)\ndf_data_1.head()\n",
            "execution_count": 1,
            "outputs": [
                {
                    "output_type": "execute_result",
                    "execution_count": 1,
                    "data": {
                        "text/plain": "   STATE_NAME  FHH_CHILD  STATE_FIPS  RENTER_OCC  WHITE  MED_AGE_M  recordId  \\\n0   Minnesota         62          27         280   4396       41.6         1   \n1  Washington        202          53         763   5480       39.8         2   \n2  Washington        890          53        3283  36078       38.7         3   \n3  Washington       1166          53        4715  29799       37.5         4   \n4  Washington        267          53        1049  10973       42.1         5   \n\n   FEMALES  CROP_ACR97  NO_FARMS97  ...  AGE_30_39  AVG_SIZE97  AGE_22_29  \\\n0     2250       78126         196  ...        588         600        282   \n1     3496       22447         179  ...        815        4524        506   \n2    20126      123434         989  ...       4826         531       2536   \n3    19858      142145        1270  ...       4796         928       3212   \n4     5851       26763         225  ...       1380         281        616   \n\n   HSEHLD_1_F  AGE_40_49  HAWN_PI  AGE_50_64  MHH_CHILD  FAMILIES  HOUSEHOLDS  \n0         260        770        0        835         46      1267        1903  \n1         314       1238        4       1474         90      1988        2823  \n2        1722       6926       66       7453        431     11018       15017  \n3        1921       6325       28       6911        487     10585       15027  \n4         536       2021       24       2430        136      3260        4639  \n\n[5 rows x 50 columns]",
                        "text/html": "<div>\n<style scoped>\n    .dataframe tbody tr th:only-of-type {\n        vertical-align: middle;\n    }\n\n    .dataframe tbody tr th {\n        vertical-align: top;\n    }\n\n    .dataframe thead th {\n        text-align: right;\n    }\n</style>\n<table border=\"1\" class=\"dataframe\">\n  <thead>\n    <tr style=\"text-align: right;\">\n      <th></th>\n      <th>STATE_NAME</th>\n      <th>FHH_CHILD</th>\n      <th>STATE_FIPS</th>\n      <th>RENTER_OCC</th>\n      <th>WHITE</th>\n      <th>MED_AGE_M</th>\n      <th>recordId</th>\n      <th>FEMALES</th>\n      <th>CROP_ACR97</th>\n      <th>NO_FARMS97</th>\n      <th>...</th>\n      <th>AGE_30_39</th>\n      <th>AVG_SIZE97</th>\n      <th>AGE_22_29</th>\n      <th>HSEHLD_1_F</th>\n      <th>AGE_40_49</th>\n      <th>HAWN_PI</th>\n      <th>AGE_50_64</th>\n      <th>MHH_CHILD</th>\n      <th>FAMILIES</th>\n      <th>HOUSEHOLDS</th>\n    </tr>\n  </thead>\n  <tbody>\n    <tr>\n      <th>0</th>\n      <td>Minnesota</td>\n      <td>62</td>\n      <td>27</td>\n      <td>280</td>\n      <td>4396</td>\n      <td>41.6</td>\n      <td>1</td>\n      <td>2250</td>\n      <td>78126</td>\n      <td>196</td>\n      <td>...</td>\n      <td>588</td>\n      <td>600</td>\n      <td>282</td>\n      <td>260</td>\n      <td>770</td>\n      <td>0</td>\n      <td>835</td>\n      <td>46</td>\n      <td>1267</td>\n      <td>1903</td>\n    </tr>\n    <tr>\n      <th>1</th>\n      <td>Washington</td>\n      <td>202</td>\n      <td>53</td>\n      <td>763</td>\n      <td>5480</td>\n      <td>39.8</td>\n      <td>2</td>\n      <td>3496</td>\n      <td>22447</td>\n      <td>179</td>\n      <td>...</td>\n      <td>815</td>\n      <td>4524</td>\n      <td>506</td>\n      <td>314</td>\n      <td>1238</td>\n      <td>4</td>\n      <td>1474</td>\n      <td>90</td>\n      <td>1988</td>\n      <td>2823</td>\n    </tr>\n    <tr>\n      <th>2</th>\n      <td>Washington</td>\n      <td>890</td>\n      <td>53</td>\n      <td>3283</td>\n      <td>36078</td>\n      <td>38.7</td>\n      <td>3</td>\n      <td>20126</td>\n      <td>123434</td>\n      <td>989</td>\n      <td>...</td>\n      <td>4826</td>\n      <td>531</td>\n      <td>2536</td>\n      <td>1722</td>\n      <td>6926</td>\n      <td>66</td>\n      <td>7453</td>\n      <td>431</td>\n      <td>11018</td>\n      <td>15017</td>\n    </tr>\n    <tr>\n      <th>3</th>\n      <td>Washington</td>\n      <td>1166</td>\n      <td>53</td>\n      <td>4715</td>\n      <td>29799</td>\n      <td>37.5</td>\n      <td>4</td>\n      <td>19858</td>\n      <td>142145</td>\n      <td>1270</td>\n      <td>...</td>\n      <td>4796</td>\n      <td>928</td>\n      <td>3212</td>\n      <td>1921</td>\n      <td>6325</td>\n      <td>28</td>\n      <td>6911</td>\n      <td>487</td>\n      <td>10585</td>\n      <td>15027</td>\n    </tr>\n    <tr>\n      <th>4</th>\n      <td>Washington</td>\n      <td>267</td>\n      <td>53</td>\n      <td>1049</td>\n      <td>10973</td>\n      <td>42.1</td>\n      <td>5</td>\n      <td>5851</td>\n      <td>26763</td>\n      <td>225</td>\n      <td>...</td>\n      <td>1380</td>\n      <td>281</td>\n      <td>616</td>\n      <td>536</td>\n      <td>2021</td>\n      <td>24</td>\n      <td>2430</td>\n      <td>136</td>\n      <td>3260</td>\n      <td>4639</td>\n    </tr>\n  </tbody>\n</table>\n<p>5 rows \u00d7 50 columns</p>\n</div>"
                    },
                    "metadata": {}
                }
            ]
        },
        {
            "metadata": {},
            "cell_type": "code",
            "source": "",
            "execution_count": null,
            "outputs": []
        }
    ],
    "metadata": {
        "kernelspec": {
            "name": "python3",
            "display_name": "Python 3.7",
            "language": "python"
        },
        "language_info": {
            "name": "python",
            "version": "3.7.9",
            "mimetype": "text/x-python",
            "codemirror_mode": {
                "name": "ipython",
                "version": 3
            },
            "pygments_lexer": "ipython3",
            "nbconvert_exporter": "python",
            "file_extension": ".py"
        }
    },
    "nbformat": 4,
    "nbformat_minor": 1
}